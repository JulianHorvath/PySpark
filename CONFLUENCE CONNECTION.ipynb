{
 "cells": [
  {
   "cell_type": "code",
   "execution_count": 0,
   "metadata": {
    "application/vnd.databricks.v1+cell": {
     "cellMetadata": {
      "byteLimit": 2048000,
      "rowLimit": 10000
     },
     "inputWidgets": {},
     "nuid": "40c9fb18-4a76-41f2-8294-21487348601b",
     "showTitle": false,
     "tableResultSettingsMap": {},
     "title": ""
    }
   },
   "outputs": [],
   "source": [
    "# Install neccesary libraries\n",
    "!pip install atlassian-python-api beautifulsoup4 lxml"
   ]
  },
  {
   "cell_type": "code",
   "execution_count": 0,
   "metadata": {
    "application/vnd.databricks.v1+cell": {
     "cellMetadata": {
      "byteLimit": 2048000,
      "rowLimit": 10000
     },
     "inputWidgets": {},
     "nuid": "2fca8638-01f2-4a8d-a178-abded69e94df",
     "showTitle": false,
     "tableResultSettingsMap": {},
     "title": ""
    }
   },
   "outputs": [],
   "source": [
    "# Restart Python kernel\n",
    "dbutils.library.restartPython()"
   ]
  },
  {
   "cell_type": "code",
   "execution_count": 0,
   "metadata": {
    "application/vnd.databricks.v1+cell": {
     "cellMetadata": {
      "byteLimit": 2048000,
      "rowLimit": 10000
     },
     "inputWidgets": {},
     "nuid": "8ba99356-22d3-442d-8afe-9b3949975675",
     "showTitle": false,
     "tableResultSettingsMap": {},
     "title": ""
    }
   },
   "outputs": [],
   "source": [
    "# Import neccesary modules\n",
    "from atlassian import Confluence\n",
    "import pyspark.pandas as ps\n",
    "import json"
   ]
  },
  {
   "cell_type": "code",
   "execution_count": 0,
   "metadata": {
    "application/vnd.databricks.v1+cell": {
     "cellMetadata": {
      "byteLimit": 2048000,
      "rowLimit": 10000
     },
     "inputWidgets": {},
     "nuid": "e883ae90-2d8c-4acd-96c2-4a8d4545fc3e",
     "showTitle": false,
     "tableResultSettingsMap": {},
     "title": ""
    }
   },
   "outputs": [],
   "source": [
    "help(Confluence)"
   ]
  },
  {
   "cell_type": "code",
   "execution_count": 0,
   "metadata": {
    "application/vnd.databricks.v1+cell": {
     "cellMetadata": {
      "byteLimit": 2048000,
      "rowLimit": 10000
     },
     "inputWidgets": {},
     "nuid": "f423ad16-0b63-4c52-99df-49bfd7e59807",
     "showTitle": false,
     "tableResultSettingsMap": {},
     "title": ""
    }
   },
   "outputs": [],
   "source": [
    "# Get Confluence token from scope\n",
    "# For Confluence token creation, refer to https://confluence.atlassian.com/enterprise/using-personal-access-tokens-1026032365.html\n",
    "# For Databricks CLI scope creation, refer to https://docs.databricks.com/dev-tools/databricks-cli.html\n",
    "confluence_token = dbutils.secrets.get(scope = \"scope_name\", key = \"scope_key\")\n",
    "\n",
    "# Define Confluence instance\n",
    "cf = Confluence(url=\"https://...\", # URL to be accesed\n",
    "                username='your_username', # regularly, your email account\n",
    "                password = confluence_token)"
   ]
  },
  {
   "cell_type": "code",
   "execution_count": 0,
   "metadata": {
    "application/vnd.databricks.v1+cell": {
     "cellMetadata": {
      "byteLimit": 2048000,
      "rowLimit": 10000
     },
     "inputWidgets": {},
     "nuid": "f82bbca7-112b-44c4-ab7a-04a9639589a7",
     "showTitle": false,
     "tableResultSettingsMap": {},
     "title": ""
    }
   },
   "outputs": [],
   "source": [
    "# Retrieve tables from a Confluence page\n",
    "tables = cf.get_tables_from_page(page_id = \"confluence_pageid\") # page_id is the 10 characters string from page's URL\n",
    "tables"
   ]
  },
  {
   "cell_type": "code",
   "execution_count": 0,
   "metadata": {
    "application/vnd.databricks.v1+cell": {
     "cellMetadata": {
      "byteLimit": 2048000,
      "rowLimit": 10000
     },
     "inputWidgets": {},
     "nuid": "59220ab1-d03c-441e-b15b-01d84359088e",
     "showTitle": false,
     "tableResultSettingsMap": {},
     "title": ""
    }
   },
   "outputs": [],
   "source": [
    "# List all tables in the page\n",
    "# Convert json string into dict\n",
    "df_dict = json.loads(tables)\n",
    "\n",
    "# Visualize all tables as DataFrame\n",
    "df_dict = ps.DataFrame(df_dict)\n",
    "display(df_dict)"
   ]
  },
  {
   "cell_type": "code",
   "execution_count": 0,
   "metadata": {
    "application/vnd.databricks.v1+cell": {
     "cellMetadata": {
      "byteLimit": 2048000,
      "rowLimit": 10000
     },
     "inputWidgets": {},
     "nuid": "4695b906-eca5-4ed2-9425-bcdda2cac77b",
     "showTitle": false,
     "tableResultSettingsMap": {},
     "title": ""
    }
   },
   "outputs": [],
   "source": [
    "# Scrap a specific table\n",
    "\n",
    "# Convert json string into dict\n",
    "data = json.loads(tables)\n",
    "\n",
    "# Access tables_content element from dict\n",
    "tables_content = list(data.keys())[2]\n",
    "\n",
    "# Access needed table from list through index\n",
    "specific_table = data[tables_content][4]\n",
    "\n",
    "print(specific_table)"
   ]
  },
  {
   "cell_type": "code",
   "execution_count": 0,
   "metadata": {
    "application/vnd.databricks.v1+cell": {
     "cellMetadata": {
      "byteLimit": 2048000,
      "rowLimit": 10000
     },
     "inputWidgets": {},
     "nuid": "7ee0acb9-13aa-4a75-ab1b-c2e7a74f0a07",
     "showTitle": false,
     "tableResultSettingsMap": {},
     "title": ""
    }
   },
   "outputs": [],
   "source": [
    "# Define columns and data for final DF\n",
    "columns = specific_table[0] # first row containing headers\n",
    "specific_table2 = specific_table[1:] # exclude first row\n",
    "\n",
    "# Final DataFrame\n",
    "df_final = ps.DataFrame(specific_table2, columns = columns)\n",
    "display(df_final)"
   ]
  }
 ],
 "metadata": {
  "application/vnd.databricks.v1+notebook": {
   "computePreferences": {
    "hardware": {
     "accelerator": null,
     "gpuPoolId": null,
     "memory": null
    }
   },
   "dashboards": [],
   "environmentMetadata": {
    "base_environment": "",
    "environment_version": "2"
   },
   "language": "python",
   "notebookMetadata": {
    "pythonIndentUnit": 4
   },
   "notebookName": "(Clone) CONFLUENCE CONNECTION",
   "widgets": {}
  },
  "language_info": {
   "name": "python"
  }
 },
 "nbformat": 4,
 "nbformat_minor": 0
}