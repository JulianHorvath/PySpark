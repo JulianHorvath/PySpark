{
  "nbformat": 4,
  "nbformat_minor": 0,
  "metadata": {
    "colab": {
      "provenance": []
    },
    "kernelspec": {
      "name": "python3",
      "display_name": "Python 3"
    },
    "language_info": {
      "name": "python"
    }
  },
  "cells": [
    {
      "cell_type": "code",
      "execution_count": 2,
      "metadata": {
        "id": "hky4K2mxh-dJ"
      },
      "outputs": [],
      "source": [
        "import pandas as pd\n",
        "import numpy as np"
      ]
    },
    {
      "cell_type": "code",
      "source": [
        "!pip install -q pyspark==3.4.1"
      ],
      "metadata": {
        "colab": {
          "base_uri": "https://localhost:8080/"
        },
        "id": "KCEXk3DD2WqC",
        "outputId": "29c77b67-9161-4e20-a2b4-ddbf21569858"
      },
      "execution_count": 3,
      "outputs": [
        {
          "output_type": "stream",
          "name": "stdout",
          "text": [
            "\u001b[2K     \u001b[90m━━━━━━━━━━━━━━━━━━━━━━━━━━━━━━━━━━━━━━━━\u001b[0m \u001b[32m310.8/310.8 MB\u001b[0m \u001b[31m4.5 MB/s\u001b[0m eta \u001b[36m0:00:00\u001b[0m\n",
            "\u001b[?25h  Preparing metadata (setup.py) ... \u001b[?25l\u001b[?25hdone\n",
            "  Building wheel for pyspark (setup.py) ... \u001b[?25l\u001b[?25hdone\n"
          ]
        }
      ]
    },
    {
      "cell_type": "code",
      "source": [
        "# Setting Spark Session\n",
        "from pyspark.sql import SparkSession\n",
        "spark = SparkSession.builder.appName('FirstSession').config('spark.executor.memory', '2g').getOrCreate()\n",
        "spark"
      ],
      "metadata": {
        "colab": {
          "base_uri": "https://localhost:8080/",
          "height": 219
        },
        "id": "Rr4lqyKn2l-N",
        "outputId": "b0db2855-8677-44b8-9608-765cd2c4094d"
      },
      "execution_count": 4,
      "outputs": [
        {
          "output_type": "execute_result",
          "data": {
            "text/plain": [
              "<pyspark.sql.session.SparkSession at 0x781d230dea40>"
            ],
            "text/html": [
              "\n",
              "            <div>\n",
              "                <p><b>SparkSession - in-memory</b></p>\n",
              "                \n",
              "        <div>\n",
              "            <p><b>SparkContext</b></p>\n",
              "\n",
              "            <p><a href=\"http://06eeec506dc1:4040\">Spark UI</a></p>\n",
              "\n",
              "            <dl>\n",
              "              <dt>Version</dt>\n",
              "                <dd><code>v3.4.1</code></dd>\n",
              "              <dt>Master</dt>\n",
              "                <dd><code>local[*]</code></dd>\n",
              "              <dt>AppName</dt>\n",
              "                <dd><code>FirstSession</code></dd>\n",
              "            </dl>\n",
              "        </div>\n",
              "        \n",
              "            </div>\n",
              "        "
            ]
          },
          "metadata": {},
          "execution_count": 4
        }
      ]
    },
    {
      "cell_type": "code",
      "source": [
        "# Import and print sample data with Pandas\n",
        "df_pandas = pd.read_csv(\"/content/sample_data/california_housing_train.csv\")\n",
        "print(df_pandas.head())\n",
        "print(df_pandas.shape)"
      ],
      "metadata": {
        "colab": {
          "base_uri": "https://localhost:8080/"
        },
        "id": "IiMzbYA_3P06",
        "outputId": "c3e42c50-8c6e-40d3-d6b4-7184eeb1f169"
      },
      "execution_count": 5,
      "outputs": [
        {
          "output_type": "stream",
          "name": "stdout",
          "text": [
            "   longitude  latitude  housing_median_age  total_rooms  total_bedrooms  \\\n",
            "0    -114.31     34.19                15.0       5612.0          1283.0   \n",
            "1    -114.47     34.40                19.0       7650.0          1901.0   \n",
            "2    -114.56     33.69                17.0        720.0           174.0   \n",
            "3    -114.57     33.64                14.0       1501.0           337.0   \n",
            "4    -114.57     33.57                20.0       1454.0           326.0   \n",
            "\n",
            "   population  households  median_income  median_house_value  \n",
            "0      1015.0       472.0         1.4936             66900.0  \n",
            "1      1129.0       463.0         1.8200             80100.0  \n",
            "2       333.0       117.0         1.6509             85700.0  \n",
            "3       515.0       226.0         3.1917             73400.0  \n",
            "4       624.0       262.0         1.9250             65500.0  \n",
            "(17000, 9)\n"
          ]
        }
      ]
    },
    {
      "cell_type": "code",
      "source": [
        "# Create Spark DF from Pandas DF\n",
        "df_pyspark = spark.createDataFrame(df_pandas)\n",
        "df_pyspark"
      ],
      "metadata": {
        "colab": {
          "base_uri": "https://localhost:8080/"
        },
        "id": "0RL--PA77lnZ",
        "outputId": "d1164b2b-e6d4-4f92-a7de-a84be6116abb"
      },
      "execution_count": 6,
      "outputs": [
        {
          "output_type": "execute_result",
          "data": {
            "text/plain": [
              "DataFrame[longitude: double, latitude: double, housing_median_age: double, total_rooms: double, total_bedrooms: double, population: double, households: double, median_income: double, median_house_value: double]"
            ]
          },
          "metadata": {},
          "execution_count": 6
        }
      ]
    },
    {
      "cell_type": "code",
      "source": [
        "# Print Schema\n",
        "df_pyspark.printSchema()"
      ],
      "metadata": {
        "colab": {
          "base_uri": "https://localhost:8080/"
        },
        "id": "syrVIt4n7ses",
        "outputId": "9f390b60-cf1b-4612-9849-467dc4a34b00"
      },
      "execution_count": 7,
      "outputs": [
        {
          "output_type": "stream",
          "name": "stdout",
          "text": [
            "root\n",
            " |-- longitude: double (nullable = true)\n",
            " |-- latitude: double (nullable = true)\n",
            " |-- housing_median_age: double (nullable = true)\n",
            " |-- total_rooms: double (nullable = true)\n",
            " |-- total_bedrooms: double (nullable = true)\n",
            " |-- population: double (nullable = true)\n",
            " |-- households: double (nullable = true)\n",
            " |-- median_income: double (nullable = true)\n",
            " |-- median_house_value: double (nullable = true)\n",
            "\n"
          ]
        }
      ]
    },
    {
      "cell_type": "code",
      "source": [
        "# Show top rows\n",
        "df_pyspark.show(5)"
      ],
      "metadata": {
        "colab": {
          "base_uri": "https://localhost:8080/"
        },
        "id": "iu4c1LPt8Ght",
        "outputId": "ce27ca83-d074-488a-a993-a4464e6ae28e"
      },
      "execution_count": 8,
      "outputs": [
        {
          "output_type": "stream",
          "name": "stdout",
          "text": [
            "+---------+--------+------------------+-----------+--------------+----------+----------+-------------+------------------+\n",
            "|longitude|latitude|housing_median_age|total_rooms|total_bedrooms|population|households|median_income|median_house_value|\n",
            "+---------+--------+------------------+-----------+--------------+----------+----------+-------------+------------------+\n",
            "|  -114.31|   34.19|              15.0|     5612.0|        1283.0|    1015.0|     472.0|       1.4936|           66900.0|\n",
            "|  -114.47|    34.4|              19.0|     7650.0|        1901.0|    1129.0|     463.0|         1.82|           80100.0|\n",
            "|  -114.56|   33.69|              17.0|      720.0|         174.0|     333.0|     117.0|       1.6509|           85700.0|\n",
            "|  -114.57|   33.64|              14.0|     1501.0|         337.0|     515.0|     226.0|       3.1917|           73400.0|\n",
            "|  -114.57|   33.57|              20.0|     1454.0|         326.0|     624.0|     262.0|        1.925|           65500.0|\n",
            "+---------+--------+------------------+-----------+--------------+----------+----------+-------------+------------------+\n",
            "only showing top 5 rows\n",
            "\n"
          ]
        }
      ]
    },
    {
      "cell_type": "code",
      "source": [
        "# Print last records, as it seems longitude is ordered ascending\n",
        "df_pyspark.tail(5)"
      ],
      "metadata": {
        "colab": {
          "base_uri": "https://localhost:8080/"
        },
        "id": "0z98PLImrjb_",
        "outputId": "ca9ba7fb-a4d6-410b-98b6-967042e8546b"
      },
      "execution_count": 9,
      "outputs": [
        {
          "output_type": "execute_result",
          "data": {
            "text/plain": [
              "[Row(longitude=-124.26, latitude=40.58, housing_median_age=52.0, total_rooms=2217.0, total_bedrooms=394.0, population=907.0, households=369.0, median_income=2.3571, median_house_value=111400.0),\n",
              " Row(longitude=-124.27, latitude=40.69, housing_median_age=36.0, total_rooms=2349.0, total_bedrooms=528.0, population=1194.0, households=465.0, median_income=2.5179, median_house_value=79000.0),\n",
              " Row(longitude=-124.3, latitude=41.84, housing_median_age=17.0, total_rooms=2677.0, total_bedrooms=531.0, population=1244.0, households=456.0, median_income=3.0313, median_house_value=103600.0),\n",
              " Row(longitude=-124.3, latitude=41.8, housing_median_age=19.0, total_rooms=2672.0, total_bedrooms=552.0, population=1298.0, households=478.0, median_income=1.9797, median_house_value=85800.0),\n",
              " Row(longitude=-124.35, latitude=40.54, housing_median_age=52.0, total_rooms=1820.0, total_bedrooms=300.0, population=806.0, households=270.0, median_income=3.0147, median_house_value=94600.0)]"
            ]
          },
          "metadata": {},
          "execution_count": 9
        }
      ]
    },
    {
      "cell_type": "markdown",
      "source": [],
      "metadata": {
        "id": "bVq73g5dbkxC"
      }
    },
    {
      "cell_type": "code",
      "source": [
        "# Generating Beedroms ratio to Rooms\n",
        "df_pyspark.withColumn('Bedrooms %', df_pyspark['total_bedrooms']/df_pyspark['total_rooms']*100).show()"
      ],
      "metadata": {
        "colab": {
          "base_uri": "https://localhost:8080/"
        },
        "id": "JGg6jUr4ZA3_",
        "outputId": "edd7dc38-120b-424e-a16f-68c44e6b41ff"
      },
      "execution_count": 10,
      "outputs": [
        {
          "output_type": "stream",
          "name": "stdout",
          "text": [
            "+---------+--------+------------------+-----------+--------------+----------+----------+-------------+------------------+------------------+\n",
            "|longitude|latitude|housing_median_age|total_rooms|total_bedrooms|population|households|median_income|median_house_value|        Bedrooms %|\n",
            "+---------+--------+------------------+-----------+--------------+----------+----------+-------------+------------------+------------------+\n",
            "|  -114.31|   34.19|              15.0|     5612.0|        1283.0|    1015.0|     472.0|       1.4936|           66900.0|22.861724875267285|\n",
            "|  -114.47|    34.4|              19.0|     7650.0|        1901.0|    1129.0|     463.0|         1.82|           80100.0| 24.84967320261438|\n",
            "|  -114.56|   33.69|              17.0|      720.0|         174.0|     333.0|     117.0|       1.6509|           85700.0|24.166666666666668|\n",
            "|  -114.57|   33.64|              14.0|     1501.0|         337.0|     515.0|     226.0|       3.1917|           73400.0| 22.45169886742172|\n",
            "|  -114.57|   33.57|              20.0|     1454.0|         326.0|     624.0|     262.0|        1.925|           65500.0|22.420907840440165|\n",
            "|  -114.58|   33.63|              29.0|     1387.0|         236.0|     671.0|     239.0|       3.3438|           74000.0|17.015140591204037|\n",
            "|  -114.58|   33.61|              25.0|     2907.0|         680.0|    1841.0|     633.0|       2.6768|           82400.0|23.391812865497073|\n",
            "|  -114.59|   34.83|              41.0|      812.0|         168.0|     375.0|     158.0|       1.7083|           48500.0|20.689655172413794|\n",
            "|  -114.59|   33.61|              34.0|     4789.0|        1175.0|    3134.0|    1056.0|       2.1782|           58400.0| 24.53539361035707|\n",
            "|   -114.6|   34.83|              46.0|     1497.0|         309.0|     787.0|     271.0|       2.1908|           48100.0| 20.64128256513026|\n",
            "|   -114.6|   33.62|              16.0|     3741.0|         801.0|    2434.0|     824.0|       2.6797|           86500.0| 21.41138732959102|\n",
            "|   -114.6|    33.6|              21.0|     1988.0|         483.0|    1182.0|     437.0|        1.625|           62000.0|24.295774647887324|\n",
            "|  -114.61|   34.84|              48.0|     1291.0|         248.0|     580.0|     211.0|       2.1571|           48600.0|19.209914794732764|\n",
            "|  -114.61|   34.83|              31.0|     2478.0|         464.0|    1346.0|     479.0|        3.212|           70400.0|18.724778046811945|\n",
            "|  -114.63|   32.76|              15.0|     1448.0|         378.0|     949.0|     300.0|       0.8585|           45000.0| 26.10497237569061|\n",
            "|  -114.65|   34.89|              17.0|     2556.0|         587.0|    1005.0|     401.0|       1.6991|           69100.0|22.965571205007826|\n",
            "|  -114.65|    33.6|              28.0|     1678.0|         322.0|     666.0|     256.0|       2.9653|           94900.0|19.189511323003575|\n",
            "|  -114.65|   32.79|              21.0|       44.0|          33.0|      64.0|      27.0|       0.8571|           25000.0|              75.0|\n",
            "|  -114.66|   32.74|              17.0|     1388.0|         386.0|     775.0|     320.0|       1.2049|           44000.0| 27.80979827089337|\n",
            "|  -114.67|   33.92|              17.0|       97.0|          24.0|      29.0|      15.0|       1.2656|           27500.0|24.742268041237114|\n",
            "+---------+--------+------------------+-----------+--------------+----------+----------+-------------+------------------+------------------+\n",
            "only showing top 20 rows\n",
            "\n"
          ]
        }
      ]
    },
    {
      "cell_type": "code",
      "source": [
        "# Descriptive statistics for relevant columns\n",
        "df_pyspark.select('total_rooms','total_bedrooms','population','households').describe().show()"
      ],
      "metadata": {
        "colab": {
          "base_uri": "https://localhost:8080/"
        },
        "id": "gaSt1vr4pkxS",
        "outputId": "d97d5b94-6b33-4953-a731-c2583a5acc13"
      },
      "execution_count": 11,
      "outputs": [
        {
          "output_type": "stream",
          "name": "stdout",
          "text": [
            "+-------+------------------+-----------------+------------------+-----------------+\n",
            "|summary|       total_rooms|   total_bedrooms|        population|       households|\n",
            "+-------+------------------+-----------------+------------------+-----------------+\n",
            "|  count|             17000|            17000|             17000|            17000|\n",
            "|   mean| 2643.664411764706|539.4108235294118|1429.5739411764705|501.2219411764706|\n",
            "| stddev|2179.9470714527715|421.4994515798648|1147.8529591595263|384.5208408559008|\n",
            "|    min|               2.0|              1.0|               3.0|              1.0|\n",
            "|    max|           37937.0|           6445.0|           35682.0|           6082.0|\n",
            "+-------+------------------+-----------------+------------------+-----------------+\n",
            "\n"
          ]
        }
      ]
    },
    {
      "cell_type": "code",
      "source": [
        "# Count locations with population over 30000\n",
        "df_pyspark.filter(df_pyspark.population > 30000).count()"
      ],
      "metadata": {
        "colab": {
          "base_uri": "https://localhost:8080/"
        },
        "id": "oNJNEAtEtssO",
        "outputId": "304a23d3-2f0d-45cf-971f-a3e2e4d5c83e"
      },
      "execution_count": 13,
      "outputs": [
        {
          "output_type": "execute_result",
          "data": {
            "text/plain": [
              "1"
            ]
          },
          "metadata": {},
          "execution_count": 13
        }
      ]
    },
    {
      "cell_type": "code",
      "source": [
        "# Retrieve five lowest populations of the set\n",
        "df_pyspark.sort(df_pyspark.population.asc()).show(5)"
      ],
      "metadata": {
        "colab": {
          "base_uri": "https://localhost:8080/"
        },
        "id": "u0jMKxn-1WQS",
        "outputId": "d12ee448-7521-4c04-e148-dbaf549c011a"
      },
      "execution_count": 14,
      "outputs": [
        {
          "output_type": "stream",
          "name": "stdout",
          "text": [
            "+---------+--------+------------------+-----------+--------------+----------+----------+-------------+------------------+\n",
            "|longitude|latitude|housing_median_age|total_rooms|total_bedrooms|population|households|median_income|median_house_value|\n",
            "+---------+--------+------------------+-----------+--------------+----------+----------+-------------+------------------+\n",
            "|  -118.44|   34.04|              16.0|       18.0|           6.0|       3.0|       4.0|        0.536|          350000.0|\n",
            "|  -117.79|   35.21|               4.0|        2.0|           2.0|       6.0|       2.0|        2.375|          137500.0|\n",
            "|  -122.06|   37.39|              26.0|       18.0|           4.0|       8.0|       4.0|         3.75|          375000.0|\n",
            "|  -117.76|   35.22|               4.0|       18.0|           3.0|       8.0|       6.0|        1.625|          275000.0|\n",
            "|  -120.85|   37.75|              26.0|       28.0|           4.0|       9.0|       5.0|        1.625|           85000.0|\n",
            "+---------+--------+------------------+-----------+--------------+----------+----------+-------------+------------------+\n",
            "only showing top 5 rows\n",
            "\n"
          ]
        }
      ]
    },
    {
      "cell_type": "code",
      "source": [
        "# Write as a .parquet file in a new directory\n",
        "df_pyspark.write.parquet('california_housing.parquet')"
      ],
      "metadata": {
        "id": "2xWcw1jF2ah2"
      },
      "execution_count": 16,
      "outputs": []
    },
    {
      "cell_type": "code",
      "source": [
        "# Read .parquet from new directory\n",
        "spark.read.parquet('california_housing.parquet', header=True).show(5)"
      ],
      "metadata": {
        "colab": {
          "base_uri": "https://localhost:8080/"
        },
        "id": "8E4Rl8zFAMUQ",
        "outputId": "e7d97b11-a68b-467e-9520-1258746aaad8"
      },
      "execution_count": 17,
      "outputs": [
        {
          "output_type": "stream",
          "name": "stdout",
          "text": [
            "+---------+--------+------------------+-----------+--------------+----------+----------+-------------+------------------+\n",
            "|longitude|latitude|housing_median_age|total_rooms|total_bedrooms|population|households|median_income|median_house_value|\n",
            "+---------+--------+------------------+-----------+--------------+----------+----------+-------------+------------------+\n",
            "|  -118.44|   34.27|              35.0|      777.0|         187.0|    1022.0|     186.0|          3.4|          139600.0|\n",
            "|  -118.44|   34.27|              29.0|     1701.0|         419.0|    1616.0|     371.0|       3.3603|          142400.0|\n",
            "|  -118.44|   34.26|              34.0|      325.0|          60.0|     433.0|      83.0|       5.5124|          174300.0|\n",
            "|  -118.44|   34.26|              34.0|     1102.0|         212.0|     949.0|     212.0|       4.0792|          165100.0|\n",
            "|  -118.44|   34.26|              28.0|     1077.0|         288.0|    1377.0|     293.0|       3.9167|          153900.0|\n",
            "+---------+--------+------------------+-----------+--------------+----------+----------+-------------+------------------+\n",
            "only showing top 5 rows\n",
            "\n"
          ]
        }
      ]
    },
    {
      "cell_type": "code",
      "source": [
        "# Check missing values on housing_median_age column\n",
        "df_pyspark.where(df_pyspark.housing_median_age.isNull()).count()"
      ],
      "metadata": {
        "colab": {
          "base_uri": "https://localhost:8080/"
        },
        "id": "Z4ovc-8UbNIF",
        "outputId": "df8b26e8-7320-4a0d-cdc6-ed3dcd8e69e1"
      },
      "execution_count": 18,
      "outputs": [
        {
          "output_type": "execute_result",
          "data": {
            "text/plain": [
              "0"
            ]
          },
          "metadata": {},
          "execution_count": 18
        }
      ]
    },
    {
      "cell_type": "code",
      "source": [
        "# Create Temporary View and execute SQL statement\n",
        "df_pyspark.createOrReplaceTempView(\"table1\")\n",
        "spark.sql(\"SELECT AVG(housing_median_age) FROM table1\").show()"
      ],
      "metadata": {
        "colab": {
          "base_uri": "https://localhost:8080/"
        },
        "id": "jjPuhl3iZKPc",
        "outputId": "093ba03c-0d31-4227-fbda-681e06f6e338"
      },
      "execution_count": 19,
      "outputs": [
        {
          "output_type": "stream",
          "name": "stdout",
          "text": [
            "+-----------------------+\n",
            "|avg(housing_median_age)|\n",
            "+-----------------------+\n",
            "|      28.58935294117647|\n",
            "+-----------------------+\n",
            "\n"
          ]
        }
      ]
    },
    {
      "cell_type": "code",
      "source": [
        "# Check Temporary View\n",
        "view_exists = spark.catalog.tableExists(\"table1\")\n",
        "view_exists"
      ],
      "metadata": {
        "colab": {
          "base_uri": "https://localhost:8080/"
        },
        "id": "AyzIhN9HppkG",
        "outputId": "71b35c9d-189b-4900-8bea-2b980d74d81a"
      },
      "execution_count": 20,
      "outputs": [
        {
          "output_type": "execute_result",
          "data": {
            "text/plain": [
              "True"
            ]
          },
          "metadata": {},
          "execution_count": 20
        }
      ]
    },
    {
      "cell_type": "code",
      "source": [
        "# Execute more complex query combining temporary views\n",
        "df_pyspark.createOrReplaceTempView(\"table2\")\n",
        "spark.sql(\"SELECT * FROM table2 WHERE housing_median_age > (SELECT AVG(housing_median_age) FROM table1)\").show()"
      ],
      "metadata": {
        "colab": {
          "base_uri": "https://localhost:8080/"
        },
        "id": "Q4x4Scgk3kXJ",
        "outputId": "b3bb1fba-ef0b-4fee-c315-7b1d17e71bcb"
      },
      "execution_count": 21,
      "outputs": [
        {
          "output_type": "stream",
          "name": "stdout",
          "text": [
            "+---------+--------+------------------+-----------+--------------+----------+----------+-------------+------------------+\n",
            "|longitude|latitude|housing_median_age|total_rooms|total_bedrooms|population|households|median_income|median_house_value|\n",
            "+---------+--------+------------------+-----------+--------------+----------+----------+-------------+------------------+\n",
            "|  -114.58|   33.63|              29.0|     1387.0|         236.0|     671.0|     239.0|       3.3438|           74000.0|\n",
            "|  -114.59|   34.83|              41.0|      812.0|         168.0|     375.0|     158.0|       1.7083|           48500.0|\n",
            "|  -114.59|   33.61|              34.0|     4789.0|        1175.0|    3134.0|    1056.0|       2.1782|           58400.0|\n",
            "|   -114.6|   34.83|              46.0|     1497.0|         309.0|     787.0|     271.0|       2.1908|           48100.0|\n",
            "|  -114.61|   34.84|              48.0|     1291.0|         248.0|     580.0|     211.0|       2.1571|           48600.0|\n",
            "|  -114.61|   34.83|              31.0|     2478.0|         464.0|    1346.0|     479.0|        3.212|           70400.0|\n",
            "|  -115.32|   32.82|              34.0|      591.0|         139.0|     327.0|      89.0|       3.6528|          100000.0|\n",
            "|  -115.37|   32.82|              30.0|     1602.0|         322.0|    1130.0|     335.0|       3.5735|           71100.0|\n",
            "|  -115.37|   32.81|              32.0|      741.0|         191.0|     623.0|     169.0|       1.7604|           68600.0|\n",
            "|  -115.38|   32.82|              38.0|     1892.0|         394.0|    1175.0|     374.0|       1.9939|           65800.0|\n",
            "|  -115.38|   32.81|              35.0|     1263.0|         262.0|     950.0|     241.0|       1.8958|           67500.0|\n",
            "|  -115.41|   32.99|              29.0|     1141.0|         220.0|     684.0|     194.0|       3.4038|          107800.0|\n",
            "|  -115.46|   33.19|              33.0|     1234.0|         373.0|     777.0|     298.0|          1.0|           40000.0|\n",
            "|  -115.49|   32.67|              29.0|     1523.0|         440.0|    1302.0|     393.0|       1.1311|           84700.0|\n",
            "|   -115.5|   32.67|              35.0|     2159.0|         492.0|    1694.0|     475.0|       2.1776|           75500.0|\n",
            "|  -115.51|   33.24|              32.0|     1995.0|         523.0|    1069.0|     410.0|       1.6552|           43300.0|\n",
            "|  -115.52|   34.22|              30.0|      540.0|         136.0|     122.0|      63.0|       1.3333|           42500.0|\n",
            "|  -115.52|   33.12|              38.0|     1327.0|         262.0|     784.0|     231.0|       1.8793|           60800.0|\n",
            "|  -115.52|   32.98|              32.0|     1615.0|         382.0|    1307.0|     345.0|       1.4583|           58600.0|\n",
            "|  -115.53|   32.97|              35.0|     1583.0|         340.0|     933.0|     318.0|       2.4063|           70700.0|\n",
            "+---------+--------+------------------+-----------+--------------+----------+----------+-------------+------------------+\n",
            "only showing top 20 rows\n",
            "\n"
          ]
        }
      ]
    },
    {
      "cell_type": "code",
      "source": [
        "# Drop Temporary Views\n",
        "spark.catalog.dropTempView(\"table1\")\n",
        "spark.catalog.dropTempView(\"table2\")"
      ],
      "metadata": {
        "colab": {
          "base_uri": "https://localhost:8080/"
        },
        "id": "-nNvTboRtsXU",
        "outputId": "aa3919a3-8fc5-48ec-fe26-f581b708ff3c"
      },
      "execution_count": 23,
      "outputs": [
        {
          "output_type": "execute_result",
          "data": {
            "text/plain": [
              "True"
            ]
          },
          "metadata": {},
          "execution_count": 23
        }
      ]
    },
    {
      "cell_type": "code",
      "source": [
        "spark.stop()"
      ],
      "metadata": {
        "id": "XQIn5tADvUvr"
      },
      "execution_count": 24,
      "outputs": []
    }
  ]
}